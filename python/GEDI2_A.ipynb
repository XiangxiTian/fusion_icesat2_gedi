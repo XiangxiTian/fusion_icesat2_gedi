{
 "cells": [
  {
   "cell_type": "markdown",
   "metadata": {},
   "source": [
    "# LEVEL 2 - GEDI Level 2A Geolocated Elevation and Height Metrics product\n",
    "\n",
    "https://lpdaac.usgs.gov/products/gedi02_av001/  \n",
    "The purpose of the GEDI Level 2A Geolocated Elevation and Height Metrics product (GEDI02_A) is to provide waveform interpretation and extracted products from each GEDI01_B received waveform, including ground elevation, canopy top height, and relative height (RH) metrics. The methodology for generating the GEDI02_A product datasets is adapted from the Land, Vegetation, and Ice Sensor (LVIS) algorithm. The GEDI01_B product is provided in HDF5 format and has a spatial resolution (average footprint) of 25 meters."
   ]
  },
  {
   "cell_type": "code",
   "execution_count": 7,
   "metadata": {
    "scrolled": false
   },
   "outputs": [],
   "source": [
    "from pyGEDI import *"
   ]
  },
  {
   "cell_type": "markdown",
   "metadata": {},
   "source": [
    "Select the file of Product GEDI0A_B with the date of interest. This will be read as an h5 file which will be used to extrapolate ground elevation, canopy top height, and relative height (RH) metrics.\n"
   ]
  },
  {
   "cell_type": "code",
   "execution_count": 8,
   "metadata": {
    "scrolled": false
   },
   "outputs": [],
   "source": [
    "fileh5_2A='data/GEDI02_A_2019266053504_O04415_T03172_02_001_01.h5'\n",
    "h5_2A=getH5(fileh5_2A)"
   ]
  },
  {
   "cell_type": "code",
   "execution_count": null,
   "metadata": {},
   "outputs": [],
   "source": []
  },
  {
   "cell_type": "markdown",
   "metadata": {},
   "source": [
    "Define the coordinates of your specific area of interest. The next line will exhibit an example using coordinates in Brazil."
   ]
  },
  {
   "cell_type": "code",
   "execution_count": 9,
   "metadata": {
    "scrolled": false
   },
   "outputs": [],
   "source": [
    "ul_lat=41.78174686595749\n",
    "ul_lon=-84.76966538940911\n",
    "lr_lat=37.816498862018186\n",
    "lr_lon=-88.05457749878411\n",
    "\n",
    "# -88.05457749878411, 37.816498862018186, -84.76966538940911, 41.78174686595749\n",
    "\n",
    "bbox=[ul_lat,ul_lon,lr_lat,lr_lon]"
   ]
  },
  {
   "cell_type": "markdown",
   "metadata": {},
   "source": [
    "The GEDI02_A data product contains 156 layers for each of the eight beams, including ground elevation, canopy top height, relative return energy metrics (describing canopy vertical structure, for example), and many other interpreted products from the return waveforms. Additional information for the layers can be found in the GEDI Level 2A Dictionary. https://lpdaac.usgs.gov/documents/586/gedi_l2a_dictionary_P001_v1.html\n",
    "\n",
    "To visualize the different layers"
   ]
  },
  {
   "cell_type": "code",
   "execution_count": 10,
   "metadata": {
    "scrolled": false
   },
   "outputs": [
    {
     "data": {
      "text/plain": [
       "{'data/GEDI02_A_2019266053504_O04415_T03172_02_001_01.h5': ['ancillary/l2a_alg_count',\n",
       "  'beam',\n",
       "  'channel',\n",
       "  'degrade_flag',\n",
       "  'delta_time',\n",
       "  'digital_elevation_model',\n",
       "  'elev_highestreturn',\n",
       "  'elev_lowestmode',\n",
       "  'elevation_bias_flag',\n",
       "  'elevation_bin0_error',\n",
       "  'energy_total',\n",
       "  'geolocation/elev_highestreturn_a1',\n",
       "  'geolocation/elev_highestreturn_a2',\n",
       "  'geolocation/elev_highestreturn_a3',\n",
       "  'geolocation/elev_highestreturn_a4',\n",
       "  'geolocation/elev_highestreturn_a5',\n",
       "  'geolocation/elev_highestreturn_a6',\n",
       "  'geolocation/elev_lowestmode_a1',\n",
       "  'geolocation/elev_lowestmode_a2',\n",
       "  'geolocation/elev_lowestmode_a3',\n",
       "  'geolocation/elev_lowestmode_a4',\n",
       "  'geolocation/elev_lowestmode_a5',\n",
       "  'geolocation/elev_lowestmode_a6',\n",
       "  'geolocation/elev_lowestreturn_a1',\n",
       "  'geolocation/elev_lowestreturn_a2',\n",
       "  'geolocation/elev_lowestreturn_a3',\n",
       "  'geolocation/elev_lowestreturn_a4',\n",
       "  'geolocation/elev_lowestreturn_a5',\n",
       "  'geolocation/elev_lowestreturn_a6',\n",
       "  'geolocation/elevation_1gfit',\n",
       "  'geolocation/elevs_allmodes_a1',\n",
       "  'geolocation/elevs_allmodes_a2',\n",
       "  'geolocation/elevs_allmodes_a3',\n",
       "  'geolocation/elevs_allmodes_a4',\n",
       "  'geolocation/elevs_allmodes_a5',\n",
       "  'geolocation/elevs_allmodes_a6',\n",
       "  'geolocation/energy_lowestmode_a1',\n",
       "  'geolocation/energy_lowestmode_a2',\n",
       "  'geolocation/energy_lowestmode_a3',\n",
       "  'geolocation/energy_lowestmode_a4',\n",
       "  'geolocation/energy_lowestmode_a5',\n",
       "  'geolocation/energy_lowestmode_a6',\n",
       "  'geolocation/lat_highestreturn_a1',\n",
       "  'geolocation/lat_highestreturn_a2',\n",
       "  'geolocation/lat_highestreturn_a3',\n",
       "  'geolocation/lat_highestreturn_a4',\n",
       "  'geolocation/lat_highestreturn_a5',\n",
       "  'geolocation/lat_highestreturn_a6',\n",
       "  'geolocation/lat_lowestmode_a1',\n",
       "  'geolocation/lat_lowestmode_a2',\n",
       "  'geolocation/lat_lowestmode_a3',\n",
       "  'geolocation/lat_lowestmode_a4',\n",
       "  'geolocation/lat_lowestmode_a5',\n",
       "  'geolocation/lat_lowestmode_a6',\n",
       "  'geolocation/lat_lowestreturn_a1',\n",
       "  'geolocation/lat_lowestreturn_a2',\n",
       "  'geolocation/lat_lowestreturn_a3',\n",
       "  'geolocation/lat_lowestreturn_a4',\n",
       "  'geolocation/lat_lowestreturn_a5',\n",
       "  'geolocation/lat_lowestreturn_a6',\n",
       "  'geolocation/latitude_1gfit',\n",
       "  'geolocation/lats_allmodes_a1',\n",
       "  'geolocation/lats_allmodes_a2',\n",
       "  'geolocation/lats_allmodes_a3',\n",
       "  'geolocation/lats_allmodes_a4',\n",
       "  'geolocation/lats_allmodes_a5',\n",
       "  'geolocation/lats_allmodes_a6',\n",
       "  'geolocation/lon_highestreturn_a1',\n",
       "  'geolocation/lon_highestreturn_a2',\n",
       "  'geolocation/lon_highestreturn_a3',\n",
       "  'geolocation/lon_highestreturn_a4',\n",
       "  'geolocation/lon_highestreturn_a5',\n",
       "  'geolocation/lon_highestreturn_a6',\n",
       "  'geolocation/lon_lowestmode_a1',\n",
       "  'geolocation/lon_lowestmode_a2',\n",
       "  'geolocation/lon_lowestmode_a3',\n",
       "  'geolocation/lon_lowestmode_a4',\n",
       "  'geolocation/lon_lowestmode_a5',\n",
       "  'geolocation/lon_lowestmode_a6',\n",
       "  'geolocation/lon_lowestreturn_a1',\n",
       "  'geolocation/lon_lowestreturn_a2',\n",
       "  'geolocation/lon_lowestreturn_a3',\n",
       "  'geolocation/lon_lowestreturn_a4',\n",
       "  'geolocation/lon_lowestreturn_a5',\n",
       "  'geolocation/lon_lowestreturn_a6',\n",
       "  'geolocation/longitude_1gfit',\n",
       "  'geolocation/lons_allmodes_a1',\n",
       "  'geolocation/lons_allmodes_a2',\n",
       "  'geolocation/lons_allmodes_a3',\n",
       "  'geolocation/lons_allmodes_a4',\n",
       "  'geolocation/lons_allmodes_a5',\n",
       "  'geolocation/lons_allmodes_a6',\n",
       "  'geolocation/num_detectedmodes_a1',\n",
       "  'geolocation/num_detectedmodes_a2',\n",
       "  'geolocation/num_detectedmodes_a3',\n",
       "  'geolocation/num_detectedmodes_a4',\n",
       "  'geolocation/num_detectedmodes_a5',\n",
       "  'geolocation/num_detectedmodes_a6',\n",
       "  'geolocation/quality_flag_a1',\n",
       "  'geolocation/quality_flag_a2',\n",
       "  'geolocation/quality_flag_a3',\n",
       "  'geolocation/quality_flag_a4',\n",
       "  'geolocation/quality_flag_a5',\n",
       "  'geolocation/quality_flag_a6',\n",
       "  'geolocation/rh_a1',\n",
       "  'geolocation/rh_a2',\n",
       "  'geolocation/rh_a3',\n",
       "  'geolocation/rh_a4',\n",
       "  'geolocation/rh_a5',\n",
       "  'geolocation/rh_a6',\n",
       "  'geolocation/sensitivity_a1',\n",
       "  'geolocation/sensitivity_a2',\n",
       "  'geolocation/sensitivity_a3',\n",
       "  'geolocation/sensitivity_a4',\n",
       "  'geolocation/sensitivity_a5',\n",
       "  'geolocation/sensitivity_a6',\n",
       "  'geolocation/shot_number',\n",
       "  'geolocation/stale_return_flag',\n",
       "  'land_cover_data/landsat_treecover',\n",
       "  'land_cover_data/modis_nonvegetated',\n",
       "  'land_cover_data/modis_nonvegetated_sd',\n",
       "  'land_cover_data/modis_treecover',\n",
       "  'land_cover_data/modis_treecover_sd',\n",
       "  'lat_highestreturn',\n",
       "  'lat_lowestmode',\n",
       "  'latitude_bin0_error',\n",
       "  'lon_highestreturn',\n",
       "  'lon_lowestmode',\n",
       "  'longitude_bin0_error',\n",
       "  'master_frac',\n",
       "  'master_int',\n",
       "  'mean_sea_surface',\n",
       "  'num_detectedmodes',\n",
       "  'quality_flag',\n",
       "  'rh',\n",
       "  'rx_1gaussfit/ancillary/mpfit_max_func_evals',\n",
       "  'rx_1gaussfit/ancillary/mpfit_maxiters',\n",
       "  'rx_1gaussfit/ancillary/mpfit_tolerance',\n",
       "  'rx_1gaussfit/ancillary/rx_constraint_gamplitude_lower',\n",
       "  'rx_1gaussfit/ancillary/rx_constraint_gamplitude_upper',\n",
       "  'rx_1gaussfit/ancillary/rx_constraint_gloc_lower',\n",
       "  'rx_1gaussfit/ancillary/rx_constraint_gloc_upper',\n",
       "  'rx_1gaussfit/ancillary/rx_constraint_gwidth_lower',\n",
       "  'rx_1gaussfit/ancillary/rx_constraint_gwidth_upper',\n",
       "  'rx_1gaussfit/ancillary/rx_estimate_bias',\n",
       "  'rx_1gaussfit/ancillary/rx_mean_noise_level',\n",
       "  'rx_1gaussfit/ancillary/rx_smoothwidth',\n",
       "  'rx_1gaussfit/rx_gamplitude',\n",
       "  'rx_1gaussfit/rx_gamplitude_error',\n",
       "  'rx_1gaussfit/rx_gbias',\n",
       "  'rx_1gaussfit/rx_gbias_error',\n",
       "  'rx_1gaussfit/rx_gchisq',\n",
       "  'rx_1gaussfit/rx_gflag',\n",
       "  'rx_1gaussfit/rx_giters',\n",
       "  'rx_1gaussfit/rx_gloc',\n",
       "  'rx_1gaussfit/rx_gloc_error',\n",
       "  'rx_1gaussfit/rx_gwidth',\n",
       "  'rx_1gaussfit/rx_gwidth_error',\n",
       "  'rx_assess/ancillary/rx_ampbounds_ll',\n",
       "  'rx_assess/ancillary/rx_ampbounds_ul',\n",
       "  'rx_assess/ancillary/rx_clipamp',\n",
       "  'rx_assess/ancillary/rx_pulsethresh',\n",
       "  'rx_assess/ancillary/rx_ringthresh',\n",
       "  'rx_assess/ancillary/smoothing_width_locs',\n",
       "  'rx_assess/mean',\n",
       "  'rx_assess/mean_64kadjusted',\n",
       "  'rx_assess/ocean_calibration_shot_flag',\n",
       "  'rx_assess/quality_flag',\n",
       "  'rx_assess/rx_assess_flag',\n",
       "  'rx_assess/rx_clipbin0',\n",
       "  'rx_assess/rx_clipbin_count',\n",
       "  'rx_assess/rx_energy',\n",
       "  'rx_assess/rx_maxamp',\n",
       "  'rx_assess/rx_maxpeakloc',\n",
       "  'rx_assess/sd_corrected',\n",
       "  'rx_assess/shot_number',\n",
       "  'rx_processing_a1/ancillary/amp_thresh',\n",
       "  'rx_processing_a1/ancillary/ampval_limit2',\n",
       "  'rx_processing_a1/ancillary/ampval_limit3',\n",
       "  'rx_processing_a1/ancillary/botlocdist_limit1',\n",
       "  'rx_processing_a1/ancillary/botlocdist_limit2',\n",
       "  'rx_processing_a1/ancillary/botlocdist_limit3',\n",
       "  'rx_processing_a1/ancillary/cumulative_energy_minimum',\n",
       "  'rx_processing_a1/ancillary/cumulative_energy_thresh',\n",
       "  'rx_processing_a1/ancillary/enable_select_mode',\n",
       "  'rx_processing_a1/ancillary/energy_thresh',\n",
       "  'rx_processing_a1/ancillary/preprocessor_threshold',\n",
       "  'rx_processing_a1/ancillary/pulse_sep_thresh',\n",
       "  'rx_processing_a1/ancillary/rx_back_threshold',\n",
       "  'rx_processing_a1/ancillary/rx_front_threshold',\n",
       "  'rx_processing_a1/ancillary/rx_max_mode_count',\n",
       "  'rx_processing_a1/ancillary/rx_searchsize',\n",
       "  'rx_processing_a1/ancillary/rx_sentinel_location',\n",
       "  'rx_processing_a1/ancillary/rx_smoothing_width_locs',\n",
       "  'rx_processing_a1/ancillary/rx_smoothing_width_zcross',\n",
       "  'rx_processing_a1/ancillary/rx_subbin_resolution',\n",
       "  'rx_processing_a1/ancillary/rx_use_fixed_thresholds',\n",
       "  'rx_processing_a1/back_threshold',\n",
       "  'rx_processing_a1/botloc',\n",
       "  'rx_processing_a1/botloc_amp',\n",
       "  'rx_processing_a1/energy_sm',\n",
       "  'rx_processing_a1/front_threshold',\n",
       "  'rx_processing_a1/lastmodeenergy',\n",
       "  'rx_processing_a1/mean',\n",
       "  'rx_processing_a1/mean_sm',\n",
       "  'rx_processing_a1/min_detection_energy',\n",
       "  'rx_processing_a1/min_detection_threshold',\n",
       "  'rx_processing_a1/peak',\n",
       "  'rx_processing_a1/pk_sm',\n",
       "  'rx_processing_a1/rx_algrunflag',\n",
       "  'rx_processing_a1/rx_cumulative',\n",
       "  'rx_processing_a1/rx_iwaveamps',\n",
       "  'rx_processing_a1/rx_modeamps',\n",
       "  'rx_processing_a1/rx_modeenergytobotloc',\n",
       "  'rx_processing_a1/rx_modelocalenergy',\n",
       "  'rx_processing_a1/rx_modelocalenergyabovemean',\n",
       "  'rx_processing_a1/rx_modelocalslope',\n",
       "  'rx_processing_a1/rx_modelocs',\n",
       "  'rx_processing_a1/rx_modewidths',\n",
       "  'rx_processing_a1/rx_nummodes',\n",
       "  'rx_processing_a1/sd_sm',\n",
       "  'rx_processing_a1/search_end',\n",
       "  'rx_processing_a1/search_start',\n",
       "  'rx_processing_a1/selected_mode',\n",
       "  'rx_processing_a1/selected_mode_flag',\n",
       "  'rx_processing_a1/shot_number',\n",
       "  'rx_processing_a1/smoothwidth',\n",
       "  'rx_processing_a1/smoothwidth_zcross',\n",
       "  'rx_processing_a1/stddev',\n",
       "  'rx_processing_a1/toploc',\n",
       "  'rx_processing_a1/toploc_miss',\n",
       "  'rx_processing_a1/zcross',\n",
       "  'rx_processing_a1/zcross0',\n",
       "  'rx_processing_a1/zcross_amp',\n",
       "  'rx_processing_a1/zcross_localenergy',\n",
       "  'rx_processing_a2/ancillary/amp_thresh',\n",
       "  'rx_processing_a2/ancillary/ampval_limit2',\n",
       "  'rx_processing_a2/ancillary/ampval_limit3',\n",
       "  'rx_processing_a2/ancillary/botlocdist_limit1',\n",
       "  'rx_processing_a2/ancillary/botlocdist_limit2',\n",
       "  'rx_processing_a2/ancillary/botlocdist_limit3',\n",
       "  'rx_processing_a2/ancillary/cumulative_energy_minimum',\n",
       "  'rx_processing_a2/ancillary/cumulative_energy_thresh',\n",
       "  'rx_processing_a2/ancillary/enable_select_mode',\n",
       "  'rx_processing_a2/ancillary/energy_thresh',\n",
       "  'rx_processing_a2/ancillary/preprocessor_threshold',\n",
       "  'rx_processing_a2/ancillary/pulse_sep_thresh',\n",
       "  'rx_processing_a2/ancillary/rx_back_threshold',\n",
       "  'rx_processing_a2/ancillary/rx_front_threshold',\n",
       "  'rx_processing_a2/ancillary/rx_max_mode_count',\n",
       "  'rx_processing_a2/ancillary/rx_searchsize',\n",
       "  'rx_processing_a2/ancillary/rx_sentinel_location',\n",
       "  'rx_processing_a2/ancillary/rx_smoothing_width_locs',\n",
       "  'rx_processing_a2/ancillary/rx_smoothing_width_zcross',\n",
       "  'rx_processing_a2/ancillary/rx_subbin_resolution',\n",
       "  'rx_processing_a2/ancillary/rx_use_fixed_thresholds',\n",
       "  'rx_processing_a2/back_threshold',\n",
       "  'rx_processing_a2/botloc',\n",
       "  'rx_processing_a2/botloc_amp',\n",
       "  'rx_processing_a2/energy_sm',\n",
       "  'rx_processing_a2/front_threshold',\n",
       "  'rx_processing_a2/lastmodeenergy',\n",
       "  'rx_processing_a2/mean',\n",
       "  'rx_processing_a2/mean_sm',\n",
       "  'rx_processing_a2/min_detection_energy',\n",
       "  'rx_processing_a2/min_detection_threshold',\n",
       "  'rx_processing_a2/peak',\n",
       "  'rx_processing_a2/pk_sm',\n",
       "  'rx_processing_a2/rx_algrunflag',\n",
       "  'rx_processing_a2/rx_cumulative',\n",
       "  'rx_processing_a2/rx_iwaveamps',\n",
       "  'rx_processing_a2/rx_modeamps',\n",
       "  'rx_processing_a2/rx_modeenergytobotloc',\n",
       "  'rx_processing_a2/rx_modelocalenergy',\n",
       "  'rx_processing_a2/rx_modelocalenergyabovemean',\n",
       "  'rx_processing_a2/rx_modelocalslope',\n",
       "  'rx_processing_a2/rx_modelocs',\n",
       "  'rx_processing_a2/rx_modewidths',\n",
       "  'rx_processing_a2/rx_nummodes',\n",
       "  'rx_processing_a2/sd_sm',\n",
       "  'rx_processing_a2/search_end',\n",
       "  'rx_processing_a2/search_start',\n",
       "  'rx_processing_a2/selected_mode',\n",
       "  'rx_processing_a2/selected_mode_flag',\n",
       "  'rx_processing_a2/shot_number',\n",
       "  'rx_processing_a2/smoothwidth',\n",
       "  'rx_processing_a2/smoothwidth_zcross',\n",
       "  'rx_processing_a2/stddev',\n",
       "  'rx_processing_a2/toploc',\n",
       "  'rx_processing_a2/toploc_miss',\n",
       "  'rx_processing_a2/zcross',\n",
       "  'rx_processing_a2/zcross0',\n",
       "  'rx_processing_a2/zcross_amp',\n",
       "  'rx_processing_a2/zcross_localenergy',\n",
       "  'rx_processing_a3/ancillary/amp_thresh',\n",
       "  'rx_processing_a3/ancillary/ampval_limit2',\n",
       "  'rx_processing_a3/ancillary/ampval_limit3',\n",
       "  'rx_processing_a3/ancillary/botlocdist_limit1',\n",
       "  'rx_processing_a3/ancillary/botlocdist_limit2',\n",
       "  'rx_processing_a3/ancillary/botlocdist_limit3',\n",
       "  'rx_processing_a3/ancillary/cumulative_energy_minimum',\n",
       "  'rx_processing_a3/ancillary/cumulative_energy_thresh',\n",
       "  'rx_processing_a3/ancillary/enable_select_mode',\n",
       "  'rx_processing_a3/ancillary/energy_thresh',\n",
       "  'rx_processing_a3/ancillary/preprocessor_threshold',\n",
       "  'rx_processing_a3/ancillary/pulse_sep_thresh',\n",
       "  'rx_processing_a3/ancillary/rx_back_threshold',\n",
       "  'rx_processing_a3/ancillary/rx_front_threshold',\n",
       "  'rx_processing_a3/ancillary/rx_max_mode_count',\n",
       "  'rx_processing_a3/ancillary/rx_searchsize',\n",
       "  'rx_processing_a3/ancillary/rx_sentinel_location',\n",
       "  'rx_processing_a3/ancillary/rx_smoothing_width_locs',\n",
       "  'rx_processing_a3/ancillary/rx_smoothing_width_zcross',\n",
       "  'rx_processing_a3/ancillary/rx_subbin_resolution',\n",
       "  'rx_processing_a3/ancillary/rx_use_fixed_thresholds',\n",
       "  'rx_processing_a3/back_threshold',\n",
       "  'rx_processing_a3/botloc',\n",
       "  'rx_processing_a3/botloc_amp',\n",
       "  'rx_processing_a3/energy_sm',\n",
       "  'rx_processing_a3/front_threshold',\n",
       "  'rx_processing_a3/lastmodeenergy',\n",
       "  'rx_processing_a3/mean',\n",
       "  'rx_processing_a3/mean_sm',\n",
       "  'rx_processing_a3/min_detection_energy',\n",
       "  'rx_processing_a3/min_detection_threshold',\n",
       "  'rx_processing_a3/peak',\n",
       "  'rx_processing_a3/pk_sm',\n",
       "  'rx_processing_a3/rx_algrunflag',\n",
       "  'rx_processing_a3/rx_cumulative',\n",
       "  'rx_processing_a3/rx_iwaveamps',\n",
       "  'rx_processing_a3/rx_modeamps',\n",
       "  'rx_processing_a3/rx_modeenergytobotloc',\n",
       "  'rx_processing_a3/rx_modelocalenergy',\n",
       "  'rx_processing_a3/rx_modelocalenergyabovemean',\n",
       "  'rx_processing_a3/rx_modelocalslope',\n",
       "  'rx_processing_a3/rx_modelocs',\n",
       "  'rx_processing_a3/rx_modewidths',\n",
       "  'rx_processing_a3/rx_nummodes',\n",
       "  'rx_processing_a3/sd_sm',\n",
       "  'rx_processing_a3/search_end',\n",
       "  'rx_processing_a3/search_start',\n",
       "  'rx_processing_a3/selected_mode',\n",
       "  'rx_processing_a3/selected_mode_flag',\n",
       "  'rx_processing_a3/shot_number',\n",
       "  'rx_processing_a3/smoothwidth',\n",
       "  'rx_processing_a3/smoothwidth_zcross',\n",
       "  'rx_processing_a3/stddev',\n",
       "  'rx_processing_a3/toploc',\n",
       "  'rx_processing_a3/toploc_miss',\n",
       "  'rx_processing_a3/zcross',\n",
       "  'rx_processing_a3/zcross0',\n",
       "  'rx_processing_a3/zcross_amp',\n",
       "  'rx_processing_a3/zcross_localenergy',\n",
       "  'rx_processing_a4/ancillary/amp_thresh',\n",
       "  'rx_processing_a4/ancillary/ampval_limit2',\n",
       "  'rx_processing_a4/ancillary/ampval_limit3',\n",
       "  'rx_processing_a4/ancillary/botlocdist_limit1',\n",
       "  'rx_processing_a4/ancillary/botlocdist_limit2',\n",
       "  'rx_processing_a4/ancillary/botlocdist_limit3',\n",
       "  'rx_processing_a4/ancillary/cumulative_energy_minimum',\n",
       "  'rx_processing_a4/ancillary/cumulative_energy_thresh',\n",
       "  'rx_processing_a4/ancillary/enable_select_mode',\n",
       "  'rx_processing_a4/ancillary/energy_thresh',\n",
       "  'rx_processing_a4/ancillary/preprocessor_threshold',\n",
       "  'rx_processing_a4/ancillary/pulse_sep_thresh',\n",
       "  'rx_processing_a4/ancillary/rx_back_threshold',\n",
       "  'rx_processing_a4/ancillary/rx_front_threshold',\n",
       "  'rx_processing_a4/ancillary/rx_max_mode_count',\n",
       "  'rx_processing_a4/ancillary/rx_searchsize',\n",
       "  'rx_processing_a4/ancillary/rx_sentinel_location',\n",
       "  'rx_processing_a4/ancillary/rx_smoothing_width_locs',\n",
       "  'rx_processing_a4/ancillary/rx_smoothing_width_zcross',\n",
       "  'rx_processing_a4/ancillary/rx_subbin_resolution',\n",
       "  'rx_processing_a4/ancillary/rx_use_fixed_thresholds',\n",
       "  'rx_processing_a4/back_threshold',\n",
       "  'rx_processing_a4/botloc',\n",
       "  'rx_processing_a4/botloc_amp',\n",
       "  'rx_processing_a4/energy_sm',\n",
       "  'rx_processing_a4/front_threshold',\n",
       "  'rx_processing_a4/lastmodeenergy',\n",
       "  'rx_processing_a4/mean',\n",
       "  'rx_processing_a4/mean_sm',\n",
       "  'rx_processing_a4/min_detection_energy',\n",
       "  'rx_processing_a4/min_detection_threshold',\n",
       "  'rx_processing_a4/peak',\n",
       "  'rx_processing_a4/pk_sm',\n",
       "  'rx_processing_a4/rx_algrunflag',\n",
       "  'rx_processing_a4/rx_cumulative',\n",
       "  'rx_processing_a4/rx_iwaveamps',\n",
       "  'rx_processing_a4/rx_modeamps',\n",
       "  'rx_processing_a4/rx_modeenergytobotloc',\n",
       "  'rx_processing_a4/rx_modelocalenergy',\n",
       "  'rx_processing_a4/rx_modelocalenergyabovemean',\n",
       "  'rx_processing_a4/rx_modelocalslope',\n",
       "  'rx_processing_a4/rx_modelocs',\n",
       "  'rx_processing_a4/rx_modewidths',\n",
       "  'rx_processing_a4/rx_nummodes',\n",
       "  'rx_processing_a4/sd_sm',\n",
       "  'rx_processing_a4/search_end',\n",
       "  'rx_processing_a4/search_start',\n",
       "  'rx_processing_a4/selected_mode',\n",
       "  'rx_processing_a4/selected_mode_flag',\n",
       "  'rx_processing_a4/shot_number',\n",
       "  'rx_processing_a4/smoothwidth',\n",
       "  'rx_processing_a4/smoothwidth_zcross',\n",
       "  'rx_processing_a4/stddev',\n",
       "  'rx_processing_a4/toploc',\n",
       "  'rx_processing_a4/toploc_miss',\n",
       "  'rx_processing_a4/zcross',\n",
       "  'rx_processing_a4/zcross0',\n",
       "  'rx_processing_a4/zcross_amp',\n",
       "  'rx_processing_a4/zcross_localenergy',\n",
       "  'rx_processing_a5/ancillary/amp_thresh',\n",
       "  'rx_processing_a5/ancillary/ampval_limit2',\n",
       "  'rx_processing_a5/ancillary/ampval_limit3',\n",
       "  'rx_processing_a5/ancillary/botlocdist_limit1',\n",
       "  'rx_processing_a5/ancillary/botlocdist_limit2',\n",
       "  'rx_processing_a5/ancillary/botlocdist_limit3',\n",
       "  'rx_processing_a5/ancillary/cumulative_energy_minimum',\n",
       "  'rx_processing_a5/ancillary/cumulative_energy_thresh',\n",
       "  'rx_processing_a5/ancillary/enable_select_mode',\n",
       "  'rx_processing_a5/ancillary/energy_thresh',\n",
       "  'rx_processing_a5/ancillary/preprocessor_threshold',\n",
       "  'rx_processing_a5/ancillary/pulse_sep_thresh',\n",
       "  'rx_processing_a5/ancillary/rx_back_threshold',\n",
       "  'rx_processing_a5/ancillary/rx_front_threshold',\n",
       "  'rx_processing_a5/ancillary/rx_max_mode_count',\n",
       "  'rx_processing_a5/ancillary/rx_searchsize',\n",
       "  'rx_processing_a5/ancillary/rx_sentinel_location',\n",
       "  'rx_processing_a5/ancillary/rx_smoothing_width_locs',\n",
       "  'rx_processing_a5/ancillary/rx_smoothing_width_zcross',\n",
       "  'rx_processing_a5/ancillary/rx_subbin_resolution',\n",
       "  'rx_processing_a5/ancillary/rx_use_fixed_thresholds',\n",
       "  'rx_processing_a5/back_threshold',\n",
       "  'rx_processing_a5/botloc',\n",
       "  'rx_processing_a5/botloc_amp',\n",
       "  'rx_processing_a5/energy_sm',\n",
       "  'rx_processing_a5/front_threshold',\n",
       "  'rx_processing_a5/lastmodeenergy',\n",
       "  'rx_processing_a5/mean',\n",
       "  'rx_processing_a5/mean_sm',\n",
       "  'rx_processing_a5/min_detection_energy',\n",
       "  'rx_processing_a5/min_detection_threshold',\n",
       "  'rx_processing_a5/peak',\n",
       "  'rx_processing_a5/pk_sm',\n",
       "  'rx_processing_a5/rx_algrunflag',\n",
       "  'rx_processing_a5/rx_cumulative',\n",
       "  'rx_processing_a5/rx_iwaveamps',\n",
       "  'rx_processing_a5/rx_modeamps',\n",
       "  'rx_processing_a5/rx_modeenergytobotloc',\n",
       "  'rx_processing_a5/rx_modelocalenergy',\n",
       "  'rx_processing_a5/rx_modelocalenergyabovemean',\n",
       "  'rx_processing_a5/rx_modelocalslope',\n",
       "  'rx_processing_a5/rx_modelocs',\n",
       "  'rx_processing_a5/rx_modewidths',\n",
       "  'rx_processing_a5/rx_nummodes',\n",
       "  'rx_processing_a5/sd_sm',\n",
       "  'rx_processing_a5/search_end',\n",
       "  'rx_processing_a5/search_start',\n",
       "  'rx_processing_a5/selected_mode',\n",
       "  'rx_processing_a5/selected_mode_flag',\n",
       "  'rx_processing_a5/shot_number',\n",
       "  'rx_processing_a5/smoothwidth',\n",
       "  'rx_processing_a5/smoothwidth_zcross',\n",
       "  'rx_processing_a5/stddev',\n",
       "  'rx_processing_a5/toploc',\n",
       "  'rx_processing_a5/toploc_miss',\n",
       "  'rx_processing_a5/zcross',\n",
       "  'rx_processing_a5/zcross0',\n",
       "  'rx_processing_a5/zcross_amp',\n",
       "  'rx_processing_a5/zcross_localenergy',\n",
       "  'rx_processing_a6/ancillary/amp_thresh',\n",
       "  'rx_processing_a6/ancillary/ampval_limit2',\n",
       "  'rx_processing_a6/ancillary/ampval_limit3',\n",
       "  'rx_processing_a6/ancillary/botlocdist_limit1',\n",
       "  'rx_processing_a6/ancillary/botlocdist_limit2',\n",
       "  'rx_processing_a6/ancillary/botlocdist_limit3',\n",
       "  'rx_processing_a6/ancillary/cumulative_energy_minimum',\n",
       "  'rx_processing_a6/ancillary/cumulative_energy_thresh',\n",
       "  'rx_processing_a6/ancillary/enable_select_mode',\n",
       "  'rx_processing_a6/ancillary/energy_thresh',\n",
       "  'rx_processing_a6/ancillary/preprocessor_threshold',\n",
       "  'rx_processing_a6/ancillary/pulse_sep_thresh',\n",
       "  'rx_processing_a6/ancillary/rx_back_threshold',\n",
       "  'rx_processing_a6/ancillary/rx_front_threshold',\n",
       "  'rx_processing_a6/ancillary/rx_max_mode_count',\n",
       "  'rx_processing_a6/ancillary/rx_searchsize',\n",
       "  'rx_processing_a6/ancillary/rx_sentinel_location',\n",
       "  'rx_processing_a6/ancillary/rx_smoothing_width_locs',\n",
       "  'rx_processing_a6/ancillary/rx_smoothing_width_zcross',\n",
       "  'rx_processing_a6/ancillary/rx_subbin_resolution',\n",
       "  'rx_processing_a6/ancillary/rx_use_fixed_thresholds',\n",
       "  'rx_processing_a6/back_threshold',\n",
       "  'rx_processing_a6/botloc',\n",
       "  'rx_processing_a6/botloc_amp',\n",
       "  'rx_processing_a6/energy_sm',\n",
       "  'rx_processing_a6/front_threshold',\n",
       "  'rx_processing_a6/lastmodeenergy',\n",
       "  'rx_processing_a6/mean',\n",
       "  'rx_processing_a6/mean_sm',\n",
       "  'rx_processing_a6/min_detection_energy',\n",
       "  'rx_processing_a6/min_detection_threshold',\n",
       "  'rx_processing_a6/peak',\n",
       "  'rx_processing_a6/pk_sm',\n",
       "  'rx_processing_a6/rx_algrunflag',\n",
       "  'rx_processing_a6/rx_cumulative',\n",
       "  'rx_processing_a6/rx_iwaveamps',\n",
       "  'rx_processing_a6/rx_modeamps',\n",
       "  'rx_processing_a6/rx_modeenergytobotloc',\n",
       "  'rx_processing_a6/rx_modelocalenergy',\n",
       "  'rx_processing_a6/rx_modelocalenergyabovemean',\n",
       "  'rx_processing_a6/rx_modelocalslope',\n",
       "  'rx_processing_a6/rx_modelocs',\n",
       "  'rx_processing_a6/rx_modewidths',\n",
       "  'rx_processing_a6/rx_nummodes',\n",
       "  'rx_processing_a6/sd_sm',\n",
       "  'rx_processing_a6/search_end',\n",
       "  'rx_processing_a6/search_start',\n",
       "  'rx_processing_a6/selected_mode',\n",
       "  'rx_processing_a6/selected_mode_flag',\n",
       "  'rx_processing_a6/shot_number',\n",
       "  'rx_processing_a6/smoothwidth',\n",
       "  'rx_processing_a6/smoothwidth_zcross',\n",
       "  'rx_processing_a6/stddev',\n",
       "  'rx_processing_a6/toploc',\n",
       "  'rx_processing_a6/toploc_miss',\n",
       "  'rx_processing_a6/zcross',\n",
       "  'rx_processing_a6/zcross0',\n",
       "  'rx_processing_a6/zcross_amp',\n",
       "  'rx_processing_a6/zcross_localenergy',\n",
       "  'selected_algorithm',\n",
       "  'selected_mode',\n",
       "  'sensitivity',\n",
       "  'shot_number',\n",
       "  'solar_azimuth',\n",
       "  'solar_elevation',\n",
       "  'surface_flag']}"
      ]
     },
     "execution_count": 10,
     "metadata": {},
     "output_type": "execute_result"
    }
   ],
   "source": [
    "getLayer('',[h5_2A])"
   ]
  },
  {
   "cell_type": "markdown",
   "metadata": {},
   "source": [
    "To see if a specific layer exists or not:"
   ]
  },
  {
   "cell_type": "code",
   "execution_count": 11,
   "metadata": {
    "scrolled": false
   },
   "outputs": [],
   "source": [
    "idsbox=idsBox(h5_2A,'lat_lowestmode','lon_lowestmode',bbox)"
   ]
  },
  {
   "cell_type": "markdown",
   "metadata": {},
   "source": [
    "**For example:** With the Box defined the different layers can be extracted from product GEDI02_A for the area of interest. "
   ]
  },
  {
   "cell_type": "code",
   "execution_count": 12,
   "metadata": {
    "scrolled": true
   },
   "outputs": [
    {
     "data": {
      "text/html": [
       "<div>\n",
       "<style scoped>\n",
       "    .dataframe tbody tr th:only-of-type {\n",
       "        vertical-align: middle;\n",
       "    }\n",
       "\n",
       "    .dataframe tbody tr th {\n",
       "        vertical-align: top;\n",
       "    }\n",
       "\n",
       "    .dataframe thead th {\n",
       "        text-align: right;\n",
       "    }\n",
       "</style>\n",
       "<table border=\"1\" class=\"dataframe\">\n",
       "  <thead>\n",
       "    <tr style=\"text-align: right;\">\n",
       "      <th></th>\n",
       "      <th>shot_number</th>\n",
       "      <th>lat_lowestmode</th>\n",
       "      <th>lon_lowestmode</th>\n",
       "      <th>sensitivity</th>\n",
       "      <th>quality_flag</th>\n",
       "      <th>rh</th>\n",
       "    </tr>\n",
       "  </thead>\n",
       "  <tbody>\n",
       "  </tbody>\n",
       "</table>\n",
       "</div>"
      ],
      "text/plain": [
       "Empty DataFrame\n",
       "Columns: [shot_number, lat_lowestmode, lon_lowestmode, sensitivity, quality_flag, rh]\n",
       "Index: []"
      ]
     },
     "execution_count": 12,
     "metadata": {},
     "output_type": "execute_result"
    }
   ],
   "source": [
    "layers=['shot_number','lat_lowestmode','lon_lowestmode', 'sensitivity','quality_flag','rh']\n",
    "dfbox=generateBoxDataFrame([h5_2A],layers,idsbox)\n",
    "dfbox.head()"
   ]
  },
  {
   "cell_type": "markdown",
   "metadata": {},
   "source": [
    "The following example calculates the maximum layer rh and is added in the dataframe. Other variables (e.g median, mean, std, pcr75, pcr90) can also be calculated for layers of interest."
   ]
  },
  {
   "cell_type": "code",
   "execution_count": 13,
   "metadata": {
    "scrolled": true
   },
   "outputs": [
    {
     "data": {
      "text/html": [
       "<div>\n",
       "<style scoped>\n",
       "    .dataframe tbody tr th:only-of-type {\n",
       "        vertical-align: middle;\n",
       "    }\n",
       "\n",
       "    .dataframe tbody tr th {\n",
       "        vertical-align: top;\n",
       "    }\n",
       "\n",
       "    .dataframe thead th {\n",
       "        text-align: right;\n",
       "    }\n",
       "</style>\n",
       "<table border=\"1\" class=\"dataframe\">\n",
       "  <thead>\n",
       "    <tr style=\"text-align: right;\">\n",
       "      <th></th>\n",
       "      <th>shot_number</th>\n",
       "      <th>lat_lowestmode</th>\n",
       "      <th>lon_lowestmode</th>\n",
       "      <th>sensitivity</th>\n",
       "      <th>quality_flag</th>\n",
       "      <th>rh</th>\n",
       "      <th>max_rh</th>\n",
       "    </tr>\n",
       "  </thead>\n",
       "  <tbody>\n",
       "  </tbody>\n",
       "</table>\n",
       "</div>"
      ],
      "text/plain": [
       "Empty DataFrame\n",
       "Columns: [shot_number, lat_lowestmode, lon_lowestmode, sensitivity, quality_flag, rh, max_rh]\n",
       "Index: []"
      ]
     },
     "execution_count": 13,
     "metadata": {},
     "output_type": "execute_result"
    }
   ],
   "source": [
    "dfbox['max_rh'] = [np.max(i) for i in dfbox['rh']]\n",
    "dfbox.head()"
   ]
  },
  {
   "cell_type": "markdown",
   "metadata": {},
   "source": [
    "Now that the data frame is created, export files in the different formats (csv, shp, tif) based on GDAL. These may all be opened in other programs (e.g. Excel, QGIS).\n",
    "\n",
    "#### Dataframe to CSV:"
   ]
  },
  {
   "cell_type": "code",
   "execution_count": 14,
   "metadata": {
    "scrolled": false
   },
   "outputs": [
    {
     "data": {
      "text/plain": [
       "'DataFrame successfully converted.'"
      ]
     },
     "execution_count": 14,
     "metadata": {},
     "output_type": "execute_result"
    }
   ],
   "source": [
    "df2csv(dfbox,filename='Box_GEDI02_A',outdir='data/formats/')"
   ]
  },
  {
   "cell_type": "markdown",
   "metadata": {},
   "source": [
    "#### CSV to SHP:"
   ]
  },
  {
   "cell_type": "code",
   "execution_count": 15,
   "metadata": {
    "scrolled": false
   },
   "outputs": [
    {
     "name": "stdout",
     "output_type": "stream",
     "text": [
      "Successfully created\n"
     ]
    },
    {
     "data": {
      "text/plain": [
       "'File successfully converted.'"
      ]
     },
     "execution_count": 15,
     "metadata": {},
     "output_type": "execute_result"
    }
   ],
   "source": [
    "csv2shp('data/formats/Box_GEDI02_A.csv',filename='Box_GEDI02_A',outdir='data/formats/')"
   ]
  },
  {
   "cell_type": "markdown",
   "metadata": {},
   "source": [
    "#### SHP to TIF:\n",
    "\n",
    "Note: Given that GEDI is 25m the pixel used must be of 0.00025. Float is recommended. Define the variable of interest for band(1) (e.g. height in centimeters or meters)."
   ]
  },
  {
   "cell_type": "code",
   "execution_count": 16,
   "metadata": {
    "scrolled": false
   },
   "outputs": [
    {
     "data": {
      "text/plain": [
       "'SHP file does not exist'"
      ]
     },
     "execution_count": 16,
     "metadata": {},
     "output_type": "execute_result"
    }
   ],
   "source": [
    "shp2tiff('data/formats/Box_GEDI02_A.shp', layername='max_rh', \n",
    "        pixelsize='0.00025', \n",
    "        nodata='225', \n",
    "        ot='float',\n",
    "        filename='Box_GEDI02_A',\n",
    "        outdir='data/formats/')"
   ]
  },
  {
   "cell_type": "markdown",
   "metadata": {},
   "source": [
    "# Visualization and Analysis\n",
    "\n",
    "Now that the file has been created as shp or tif, visualization and analysis are possible.\n",
    "\n",
    "### Please note you will need these packages:\n"
   ]
  },
  {
   "cell_type": "code",
   "execution_count": 17,
   "metadata": {
    "scrolled": false
   },
   "outputs": [],
   "source": [
    "import geopandas as gpd\n",
    "from mpl_toolkits.mplot3d import Axes3D\n",
    "import plotly.express as px\n",
    "import folium"
   ]
  },
  {
   "cell_type": "markdown",
   "metadata": {},
   "source": [
    "The following data analyses are from  Democratic Republic of the Congo where various variables were calculated that pertain to GEDI product 2A. Variables tcc, tch75, tch90, tch95, tch100, are the percentile result from layer rh."
   ]
  },
  {
   "cell_type": "markdown",
   "metadata": {},
   "source": [
    "#### To visualize in shp format and an attributes table"
   ]
  },
  {
   "cell_type": "code",
   "execution_count": 19,
   "metadata": {
    "scrolled": false
   },
   "outputs": [
    {
     "ename": "ValueError",
     "evalue": "aspect must be finite and positive ",
     "output_type": "error",
     "traceback": [
      "\u001b[1;31m---------------------------------------------------------------------------\u001b[0m",
      "\u001b[1;31mValueError\u001b[0m                                Traceback (most recent call last)",
      "Cell \u001b[1;32mIn[19], line 2\u001b[0m\n\u001b[0;32m      1\u001b[0m GEDI_shp \u001b[39m=\u001b[39m gpd\u001b[39m.\u001b[39mread_file(\u001b[39m'\u001b[39m\u001b[39mdata/formats/Box_GEDI02_A.shp\u001b[39m\u001b[39m'\u001b[39m)\n\u001b[1;32m----> 2\u001b[0m plotSHP(GEDI_shp,\u001b[39m'\u001b[39;49m\u001b[39mtch75\u001b[39;49m\u001b[39m'\u001b[39;49m,colormap\u001b[39m=\u001b[39;49m\u001b[39m'\u001b[39;49m\u001b[39mSpectral_r\u001b[39;49m\u001b[39m'\u001b[39;49m)\n\u001b[0;32m      3\u001b[0m GEDI_shp\u001b[39m.\u001b[39mhead()\n",
      "File \u001b[1;32mc:\\Users\\txx12\\miniconda3\\envs\\gedi_dem\\lib\\site-packages\\pyGEDI\\__init__.py:253\u001b[0m, in \u001b[0;36mplotSHP\u001b[1;34m(GEDI_shp, metrics, colormap)\u001b[0m\n\u001b[0;32m    252\u001b[0m \u001b[39mdef\u001b[39;00m \u001b[39mplotSHP\u001b[39m(GEDI_shp,metrics,colormap):\n\u001b[1;32m--> 253\u001b[0m     GEDI_shp\u001b[39m.\u001b[39;49mplot(column \u001b[39m=\u001b[39;49m metrics, alpha \u001b[39m=\u001b[39;49m \u001b[39m0.9\u001b[39;49m, markersize \u001b[39m=\u001b[39;49m\u001b[39m5\u001b[39;49m,cmap\u001b[39m=\u001b[39;49mcolormap,figsize \u001b[39m=\u001b[39;49m (\u001b[39m5\u001b[39;49m,\u001b[39m5\u001b[39;49m))\n\u001b[0;32m    254\u001b[0m     plt\u001b[39m.\u001b[39mtitle(\u001b[39m'\u001b[39m\u001b[39mGEDI Box\u001b[39m\u001b[39m'\u001b[39m, fontsize\u001b[39m=\u001b[39m\u001b[39m15\u001b[39m,fontweight\u001b[39m=\u001b[39m\u001b[39m'\u001b[39m\u001b[39mbold\u001b[39m\u001b[39m'\u001b[39m)\n",
      "File \u001b[1;32mc:\\Users\\txx12\\miniconda3\\envs\\gedi_dem\\lib\\site-packages\\geopandas\\plotting.py:968\u001b[0m, in \u001b[0;36mGeoplotAccessor.__call__\u001b[1;34m(self, *args, **kwargs)\u001b[0m\n\u001b[0;32m    966\u001b[0m kind \u001b[39m=\u001b[39m kwargs\u001b[39m.\u001b[39mpop(\u001b[39m\"\u001b[39m\u001b[39mkind\u001b[39m\u001b[39m\"\u001b[39m, \u001b[39m\"\u001b[39m\u001b[39mgeo\u001b[39m\u001b[39m\"\u001b[39m)\n\u001b[0;32m    967\u001b[0m \u001b[39mif\u001b[39;00m kind \u001b[39m==\u001b[39m \u001b[39m\"\u001b[39m\u001b[39mgeo\u001b[39m\u001b[39m\"\u001b[39m:\n\u001b[1;32m--> 968\u001b[0m     \u001b[39mreturn\u001b[39;00m plot_dataframe(data, \u001b[39m*\u001b[39;49margs, \u001b[39m*\u001b[39;49m\u001b[39m*\u001b[39;49mkwargs)\n\u001b[0;32m    969\u001b[0m \u001b[39mif\u001b[39;00m kind \u001b[39min\u001b[39;00m \u001b[39mself\u001b[39m\u001b[39m.\u001b[39m_pandas_kinds:\n\u001b[0;32m    970\u001b[0m     \u001b[39m# Access pandas plots\u001b[39;00m\n\u001b[0;32m    971\u001b[0m     \u001b[39mreturn\u001b[39;00m PlotAccessor(data)(kind\u001b[39m=\u001b[39mkind, \u001b[39m*\u001b[39m\u001b[39m*\u001b[39mkwargs)\n",
      "File \u001b[1;32mc:\\Users\\txx12\\miniconda3\\envs\\gedi_dem\\lib\\site-packages\\geopandas\\plotting.py:679\u001b[0m, in \u001b[0;36mplot_dataframe\u001b[1;34m(df, column, cmap, color, ax, cax, categorical, legend, scheme, k, vmin, vmax, markersize, figsize, legend_kwds, categories, classification_kwds, missing_kwds, aspect, **style_kwds)\u001b[0m\n\u001b[0;32m    677\u001b[0m     bounds \u001b[39m=\u001b[39m df\u001b[39m.\u001b[39mtotal_bounds\n\u001b[0;32m    678\u001b[0m     y_coord \u001b[39m=\u001b[39m np\u001b[39m.\u001b[39mmean([bounds[\u001b[39m1\u001b[39m], bounds[\u001b[39m3\u001b[39m]])\n\u001b[1;32m--> 679\u001b[0m     ax\u001b[39m.\u001b[39;49mset_aspect(\u001b[39m1\u001b[39;49m \u001b[39m/\u001b[39;49m np\u001b[39m.\u001b[39;49mcos(y_coord \u001b[39m*\u001b[39;49m np\u001b[39m.\u001b[39;49mpi \u001b[39m/\u001b[39;49m \u001b[39m180\u001b[39;49m))\n\u001b[0;32m    680\u001b[0m     \u001b[39m# formula ported from R package sp\u001b[39;00m\n\u001b[0;32m    681\u001b[0m     \u001b[39m# https://github.com/edzer/sp/blob/master/R/mapasp.R\u001b[39;00m\n\u001b[0;32m    682\u001b[0m \u001b[39melse\u001b[39;00m:\n\u001b[0;32m    683\u001b[0m     ax\u001b[39m.\u001b[39mset_aspect(\u001b[39m\"\u001b[39m\u001b[39mequal\u001b[39m\u001b[39m\"\u001b[39m)\n",
      "File \u001b[1;32mc:\\Users\\txx12\\miniconda3\\envs\\gedi_dem\\lib\\site-packages\\matplotlib\\axes\\_base.py:1669\u001b[0m, in \u001b[0;36m_AxesBase.set_aspect\u001b[1;34m(self, aspect, adjustable, anchor, share)\u001b[0m\n\u001b[0;32m   1667\u001b[0m     aspect \u001b[39m=\u001b[39m \u001b[39mfloat\u001b[39m(aspect)  \u001b[39m# raise ValueError if necessary\u001b[39;00m\n\u001b[0;32m   1668\u001b[0m     \u001b[39mif\u001b[39;00m aspect \u001b[39m<\u001b[39m\u001b[39m=\u001b[39m \u001b[39m0\u001b[39m \u001b[39mor\u001b[39;00m \u001b[39mnot\u001b[39;00m np\u001b[39m.\u001b[39misfinite(aspect):\n\u001b[1;32m-> 1669\u001b[0m         \u001b[39mraise\u001b[39;00m \u001b[39mValueError\u001b[39;00m(\u001b[39m\"\u001b[39m\u001b[39maspect must be finite and positive \u001b[39m\u001b[39m\"\u001b[39m)\n\u001b[0;32m   1671\u001b[0m \u001b[39mif\u001b[39;00m share:\n\u001b[0;32m   1672\u001b[0m     axes \u001b[39m=\u001b[39m {sibling \u001b[39mfor\u001b[39;00m name \u001b[39min\u001b[39;00m \u001b[39mself\u001b[39m\u001b[39m.\u001b[39m_axis_names\n\u001b[0;32m   1673\u001b[0m             \u001b[39mfor\u001b[39;00m sibling \u001b[39min\u001b[39;00m \u001b[39mself\u001b[39m\u001b[39m.\u001b[39m_shared_axes[name]\u001b[39m.\u001b[39mget_siblings(\u001b[39mself\u001b[39m)}\n",
      "\u001b[1;31mValueError\u001b[0m: aspect must be finite and positive "
     ]
    },
    {
     "data": {
      "image/png": "[encoded data removed]",
      "text/plain": [
       "<Figure size 500x500 with 1 Axes>"
      ]
     },
     "metadata": {},
     "output_type": "display_data"
    }
   ],
   "source": [
    "GEDI_shp = gpd.read_file('data/formats/Box_GEDI02_A.shp')\n",
    "plotSHP(GEDI_shp,'tch75',colormap='Spectral_r')\n",
    "GEDI_shp.head()"
   ]
  },
  {
   "cell_type": "markdown",
   "metadata": {},
   "source": [
    "#### 3D Graph of Latitude, Longitude, and Height(tch75) of Congo"
   ]
  },
  {
   "cell_type": "code",
   "execution_count": 20,
   "metadata": {
    "scrolled": false
   },
   "outputs": [
    {
     "ename": "KeyError",
     "evalue": "'lat'",
     "output_type": "error",
     "traceback": [
      "\u001b[1;31m---------------------------------------------------------------------------\u001b[0m",
      "\u001b[1;31mKeyError\u001b[0m                                  Traceback (most recent call last)",
      "File \u001b[1;32mc:\\Users\\txx12\\miniconda3\\envs\\gedi_dem\\lib\\site-packages\\pandas\\core\\indexes\\base.py:3802\u001b[0m, in \u001b[0;36mIndex.get_loc\u001b[1;34m(self, key, method, tolerance)\u001b[0m\n\u001b[0;32m   3801\u001b[0m \u001b[39mtry\u001b[39;00m:\n\u001b[1;32m-> 3802\u001b[0m     \u001b[39mreturn\u001b[39;00m \u001b[39mself\u001b[39;49m\u001b[39m.\u001b[39;49m_engine\u001b[39m.\u001b[39;49mget_loc(casted_key)\n\u001b[0;32m   3803\u001b[0m \u001b[39mexcept\u001b[39;00m \u001b[39mKeyError\u001b[39;00m \u001b[39mas\u001b[39;00m err:\n",
      "File \u001b[1;32mc:\\Users\\txx12\\miniconda3\\envs\\gedi_dem\\lib\\site-packages\\pandas\\_libs\\index.pyx:138\u001b[0m, in \u001b[0;36mpandas._libs.index.IndexEngine.get_loc\u001b[1;34m()\u001b[0m\n",
      "File \u001b[1;32mc:\\Users\\txx12\\miniconda3\\envs\\gedi_dem\\lib\\site-packages\\pandas\\_libs\\index.pyx:165\u001b[0m, in \u001b[0;36mpandas._libs.index.IndexEngine.get_loc\u001b[1;34m()\u001b[0m\n",
      "File \u001b[1;32mpandas\\_libs\\hashtable_class_helper.pxi:5745\u001b[0m, in \u001b[0;36mpandas._libs.hashtable.PyObjectHashTable.get_item\u001b[1;34m()\u001b[0m\n",
      "File \u001b[1;32mpandas\\_libs\\hashtable_class_helper.pxi:5753\u001b[0m, in \u001b[0;36mpandas._libs.hashtable.PyObjectHashTable.get_item\u001b[1;34m()\u001b[0m\n",
      "\u001b[1;31mKeyError\u001b[0m: 'lat'",
      "\nThe above exception was the direct cause of the following exception:\n",
      "\u001b[1;31mKeyError\u001b[0m                                  Traceback (most recent call last)",
      "Cell \u001b[1;32mIn[20], line 3\u001b[0m\n\u001b[0;32m      1\u001b[0m fig1\u001b[39m=\u001b[39mplt\u001b[39m.\u001b[39mfigure(figsize\u001b[39m=\u001b[39m(\u001b[39m15\u001b[39m,\u001b[39m15\u001b[39m))\n\u001b[0;32m      2\u001b[0m ax\u001b[39m=\u001b[39mfig1\u001b[39m.\u001b[39madd_subplot(\u001b[39m211\u001b[39m,projection\u001b[39m=\u001b[39m\u001b[39m'\u001b[39m\u001b[39m3d\u001b[39m\u001b[39m'\u001b[39m)\n\u001b[1;32m----> 3\u001b[0m data \u001b[39m=\u001b[39m [GEDI_shp[\u001b[39m'\u001b[39;49m\u001b[39mlat\u001b[39;49m\u001b[39m'\u001b[39;49m], GEDI_shp[\u001b[39m'\u001b[39m\u001b[39mlon\u001b[39m\u001b[39m'\u001b[39m], GEDI_shp[\u001b[39m'\u001b[39m\u001b[39mtch75\u001b[39m\u001b[39m'\u001b[39m]]\n\u001b[0;32m      4\u001b[0m AX \u001b[39m=\u001b[39m ax\u001b[39m.\u001b[39mscatter(\u001b[39m*\u001b[39mdata, c\u001b[39m=\u001b[39mdata[\u001b[39m2\u001b[39m], vmin\u001b[39m=\u001b[39m\u001b[39m0\u001b[39m, vmax\u001b[39m=\u001b[39m\u001b[39m30\u001b[39m, cmap\u001b[39m=\u001b[39m\u001b[39m'\u001b[39m\u001b[39mBuGn\u001b[39m\u001b[39m'\u001b[39m)\n\u001b[0;32m      5\u001b[0m ax\u001b[39m.\u001b[39mview_init(\u001b[39m15\u001b[39m,\u001b[39m30\u001b[39m)\n",
      "File \u001b[1;32mc:\\Users\\txx12\\miniconda3\\envs\\gedi_dem\\lib\\site-packages\\geopandas\\geodataframe.py:1415\u001b[0m, in \u001b[0;36mGeoDataFrame.__getitem__\u001b[1;34m(self, key)\u001b[0m\n\u001b[0;32m   1409\u001b[0m \u001b[39mdef\u001b[39;00m \u001b[39m__getitem__\u001b[39m(\u001b[39mself\u001b[39m, key):\n\u001b[0;32m   1410\u001b[0m \u001b[39m    \u001b[39m\u001b[39m\"\"\"\u001b[39;00m\n\u001b[0;32m   1411\u001b[0m \u001b[39m    If the result is a column containing only 'geometry', return a\u001b[39;00m\n\u001b[0;32m   1412\u001b[0m \u001b[39m    GeoSeries. If it's a DataFrame with any columns of GeometryDtype,\u001b[39;00m\n\u001b[0;32m   1413\u001b[0m \u001b[39m    return a GeoDataFrame.\u001b[39;00m\n\u001b[0;32m   1414\u001b[0m \u001b[39m    \"\"\"\u001b[39;00m\n\u001b[1;32m-> 1415\u001b[0m     result \u001b[39m=\u001b[39m \u001b[39msuper\u001b[39;49m()\u001b[39m.\u001b[39;49m\u001b[39m__getitem__\u001b[39;49m(key)\n\u001b[0;32m   1416\u001b[0m     geo_col \u001b[39m=\u001b[39m \u001b[39mself\u001b[39m\u001b[39m.\u001b[39m_geometry_column_name\n\u001b[0;32m   1417\u001b[0m     \u001b[39mif\u001b[39;00m \u001b[39misinstance\u001b[39m(result, Series) \u001b[39mand\u001b[39;00m \u001b[39misinstance\u001b[39m(result\u001b[39m.\u001b[39mdtype, GeometryDtype):\n",
      "File \u001b[1;32mc:\\Users\\txx12\\miniconda3\\envs\\gedi_dem\\lib\\site-packages\\pandas\\core\\frame.py:3807\u001b[0m, in \u001b[0;36mDataFrame.__getitem__\u001b[1;34m(self, key)\u001b[0m\n\u001b[0;32m   3805\u001b[0m \u001b[39mif\u001b[39;00m \u001b[39mself\u001b[39m\u001b[39m.\u001b[39mcolumns\u001b[39m.\u001b[39mnlevels \u001b[39m>\u001b[39m \u001b[39m1\u001b[39m:\n\u001b[0;32m   3806\u001b[0m     \u001b[39mreturn\u001b[39;00m \u001b[39mself\u001b[39m\u001b[39m.\u001b[39m_getitem_multilevel(key)\n\u001b[1;32m-> 3807\u001b[0m indexer \u001b[39m=\u001b[39m \u001b[39mself\u001b[39;49m\u001b[39m.\u001b[39;49mcolumns\u001b[39m.\u001b[39;49mget_loc(key)\n\u001b[0;32m   3808\u001b[0m \u001b[39mif\u001b[39;00m is_integer(indexer):\n\u001b[0;32m   3809\u001b[0m     indexer \u001b[39m=\u001b[39m [indexer]\n",
      "File \u001b[1;32mc:\\Users\\txx12\\miniconda3\\envs\\gedi_dem\\lib\\site-packages\\pandas\\core\\indexes\\base.py:3804\u001b[0m, in \u001b[0;36mIndex.get_loc\u001b[1;34m(self, key, method, tolerance)\u001b[0m\n\u001b[0;32m   3802\u001b[0m     \u001b[39mreturn\u001b[39;00m \u001b[39mself\u001b[39m\u001b[39m.\u001b[39m_engine\u001b[39m.\u001b[39mget_loc(casted_key)\n\u001b[0;32m   3803\u001b[0m \u001b[39mexcept\u001b[39;00m \u001b[39mKeyError\u001b[39;00m \u001b[39mas\u001b[39;00m err:\n\u001b[1;32m-> 3804\u001b[0m     \u001b[39mraise\u001b[39;00m \u001b[39mKeyError\u001b[39;00m(key) \u001b[39mfrom\u001b[39;00m \u001b[39merr\u001b[39;00m\n\u001b[0;32m   3805\u001b[0m \u001b[39mexcept\u001b[39;00m \u001b[39mTypeError\u001b[39;00m:\n\u001b[0;32m   3806\u001b[0m     \u001b[39m# If we have a listlike key, _check_indexing_error will raise\u001b[39;00m\n\u001b[0;32m   3807\u001b[0m     \u001b[39m#  InvalidIndexError. Otherwise we fall through and re-raise\u001b[39;00m\n\u001b[0;32m   3808\u001b[0m     \u001b[39m#  the TypeError.\u001b[39;00m\n\u001b[0;32m   3809\u001b[0m     \u001b[39mself\u001b[39m\u001b[39m.\u001b[39m_check_indexing_error(key)\n",
      "\u001b[1;31mKeyError\u001b[0m: 'lat'"
     ]
    },
    {
     "data": {
      "image/png": "[encoded data removed]",
      "text/plain": [
       "<Figure size 1500x1500 with 1 Axes>"
      ]
     },
     "metadata": {},
     "output_type": "display_data"
    }
   ],
   "source": [
    "fig1=plt.figure(figsize=(15,15))\n",
    "ax=fig1.add_subplot(211,projection='3d')\n",
    "data = [GEDI_shp['lat'], GEDI_shp['lon'], GEDI_shp['tch75']]\n",
    "AX = ax.scatter(*data, c=data[2], vmin=0, vmax=30, cmap='BuGn')\n",
    "ax.view_init(15,30)\n",
    "plt.colorbar(AX)"
   ]
  },
  {
   "cell_type": "markdown",
   "metadata": {},
   "source": [
    "#### To visualize a Height (tch75) Histogram."
   ]
  },
  {
   "cell_type": "code",
   "execution_count": null,
   "metadata": {
    "scrolled": false
   },
   "outputs": [],
   "source": [
    "GEDI_raster = 'data/formats/tch75_DRC.tif'\n",
    "histRaster(GEDI_raster,bins=40)"
   ]
  }
 ],
 "metadata": {
  "kernelspec": {
   "display_name": "Python 3",
   "language": "python",
   "name": "python3"
  },
  "language_info": {
   "codemirror_mode": {
    "name": "ipython",
    "version": 3
   },
   "file_extension": ".py",
   "mimetype": "text/x-python",
   "name": "python",
   "nbconvert_exporter": "python",
   "pygments_lexer": "ipython3",
   "version": "3.8.17"
  }
 },
 "nbformat": 4,
 "nbformat_minor": 4
}
